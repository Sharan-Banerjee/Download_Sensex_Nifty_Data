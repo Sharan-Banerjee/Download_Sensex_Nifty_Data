{
 "cells": [
  {
   "cell_type": "markdown",
   "id": "f86145bb",
   "metadata": {},
   "source": [
    "# Bulk downloading SENSEX and NIFTY historical ticker data\n",
    "\n",
    "This notebook helps me to import historical ticker data for SENSEX and NIFTY and merge them all together into one exportable dataframe. "
   ]
  },
  {
   "cell_type": "markdown",
   "id": "460a6c8a",
   "metadata": {},
   "source": [
    "## 1. Setup the libraries and packages"
   ]
  },
  {
   "cell_type": "code",
   "execution_count": null,
   "id": "0013b53a",
   "metadata": {},
   "outputs": [],
   "source": [
    "import yfinance as yf\n",
    "import pandas as pd\n",
    "import numpy as np\n",
    "import os"
   ]
  },
  {
   "cell_type": "markdown",
   "id": "534bb663",
   "metadata": {},
   "source": [
    "## 2. Import the NIFTY tickers\n",
    "\n",
    "Bulk list of NIFTY tickers can be obtained from https://www.nseindia.com/market-data/securities-available-for-trading as a CSV sheet which can be imported in directly for the code. "
   ]
  },
  {
   "cell_type": "code",
   "execution_count": null,
   "id": "c04d24ab",
   "metadata": {},
   "outputs": [],
   "source": [
    "ticker_list = pd.read_csv('Insert CSV location here') \n",
    "ticker_list.head()\n",
    "\n",
    "tickers = ticker_list.SYMBOL\n",
    "tickers"
   ]
  },
  {
   "cell_type": "code",
   "execution_count": null,
   "id": "720fe04f",
   "metadata": {
    "scrolled": true
   },
   "outputs": [],
   "source": [
    "os.chdir('Project Folder/Data/NIFTY Tickers')\n",
    "\n",
    "# Initialize an empty DataFrame and error log\n",
    "errors = {}\n",
    "\n",
    "# Download data for each ticker with suffix handling\n",
    "for ticker in tickers:\n",
    "    try:        \n",
    "        df = yf.download(f'{ticker}.NS')\n",
    "        df.to_csv(f'{ticker}.csv')\n",
    "    \n",
    "    except Exception as e:\n",
    "        errors[ticker] = str(e)\n",
    "        print(f\"Failed to download {ticker}: {e}\")"
   ]
  },
  {
   "cell_type": "code",
   "execution_count": null,
   "id": "2eba2656",
   "metadata": {},
   "outputs": [],
   "source": [
    "# List all CSV files in the folder\n",
    "csv_files = [file for file in os.listdir('Insert Folder Path here: Project Folder/Data/NIFTY Tickers') if file.endswith('.csv')]\n",
    "\n",
    "# Initialize an empty list to store dataframes\n",
    "dataframes = []\n",
    "\n",
    "for file in csv_files:\n",
    "    # Generate the full file path\n",
    "    file_path = os.path.join(folder_path, file)\n",
    "    \n",
    "    # Read the CSV file, skipping the first two rows\n",
    "    df = pd.read_csv(file_path, skiprows=2)\n",
    "    \n",
    "    # Rename the second column to the name of the file (without extension)\n",
    "    file_name = os.path.splitext(file)[0]\n",
    "    df.rename(columns={df.columns[1]: file_name}, inplace=True)\n",
    "    \n",
    "    # Ensure the 'Date' column is properly formatted\n",
    "    df['Date'] = pd.to_datetime(df['Date'])\n",
    "    \n",
    "    # Add this dataframe to the list\n",
    "    dataframes.append(df)\n",
    "\n",
    "# Merge all dataframes on the 'Date' column\n",
    "merged_df = dataframes[0]\n",
    "for df in dataframes[1:]:\n",
    "    merged_df = pd.merge(merged_df, df, on='Date', how='outer')\n",
    "\n",
    "# Save the merged dataframe to a CSV file\n",
    "#merged_df.to_csv('Path to save merged file', index=False)\n",
    "\n",
    "#print(\"All files have been merged successfully!\")\n"
   ]
  },
  {
   "cell_type": "markdown",
   "id": "8d3262aa",
   "metadata": {},
   "source": [
    "## 3. Import the SENSEX Tickers\n",
    "\n",
    "Bulk list of SENSEX tickers across the years can be obtained from https://www.bseindia.com/markets/MarketInfo/BhavCopy.aspx as a CSV sheet which can be imported in directly for the code. "
   ]
  },
  {
   "cell_type": "code",
   "execution_count": null,
   "id": "840ebdd7",
   "metadata": {},
   "outputs": [],
   "source": [
    "sensex_ticker_list = pd.read_csv('Insert CSV location here')\n",
    "sensex_ticker_list.head()\n",
    "\n",
    "sensex_tickers = sensex_ticker_list.TckrSymb\n",
    "sensex_tickers"
   ]
  },
  {
   "cell_type": "code",
   "execution_count": null,
   "id": "8143956f",
   "metadata": {},
   "outputs": [],
   "source": [
    "os.chdir('Project Folder/Data/SENSEX Tickers'')\n",
    "\n",
    "# Initialize an empty DataFrame and error log\n",
    "errors = {}\n",
    "\n",
    "# Download data for each ticker with suffix handling\n",
    "for ticker in tickers:\n",
    "    try:        \n",
    "        df = yf.download(f'{ticker}.BO')\n",
    "        df.to_csv(f'{ticker}.csv')\n",
    "    \n",
    "    except Exception as e:\n",
    "        errors[ticker] = str(e)\n",
    "        print(f\"Failed to download {ticker}: {e}\")"
   ]
  },
  {
   "cell_type": "code",
   "execution_count": null,
   "id": "c4b299f5",
   "metadata": {},
   "outputs": [],
   "source": [
    "# List all CSV files in the folder\n",
    "csv_files = [file for file in os.listdir('Insert Folder Path here: Project Folder/Data/SENSEX Tickers') if file.endswith('.csv')]\n",
    "\n",
    "# Initialize an empty list to store dataframes\n",
    "dataframes = []\n",
    "\n",
    "for file in csv_files:\n",
    "    # Generate the full file path\n",
    "    file_path = os.path.join(folder_path, file)\n",
    "    \n",
    "    # Read the CSV file, skipping the first two rows\n",
    "    df = pd.read_csv(file_path, skiprows=2)\n",
    "    \n",
    "    # Rename the second column to the name of the file (without extension)\n",
    "    file_name = os.path.splitext(file)[0]\n",
    "    df.rename(columns={df.columns[1]: file_name}, inplace=True)\n",
    "    \n",
    "    # Ensure the 'Date' column is properly formatted\n",
    "    df['Date'] = pd.to_datetime(df['Date'])\n",
    "    \n",
    "    # Add this dataframe to the list\n",
    "    dataframes.append(df)\n",
    "\n",
    "# Merge all dataframes on the 'Date' column\n",
    "merged_df = dataframes[0]\n",
    "for df in dataframes[1:]:\n",
    "    merged_df = pd.merge(merged_df, df, on='Date', how='outer')\n",
    "\n",
    "# Save the merged dataframe to a CSV file\n",
    "#merged_df.to_csv('Path to save merged file', index=False)\n",
    "\n",
    "#print(\"All files have been merged successfully!\")\n"
   ]
  }
 ],
 "metadata": {
  "kernelspec": {
   "display_name": "Python 3 (ipykernel)",
   "language": "python",
   "name": "python3"
  },
  "language_info": {
   "codemirror_mode": {
    "name": "ipython",
    "version": 3
   },
   "file_extension": ".py",
   "mimetype": "text/x-python",
   "name": "python",
   "nbconvert_exporter": "python",
   "pygments_lexer": "ipython3",
   "version": "3.9.12"
  }
 },
 "nbformat": 4,
 "nbformat_minor": 5
}
